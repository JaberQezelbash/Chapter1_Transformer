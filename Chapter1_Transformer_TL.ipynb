{
 "cells": [
  {
   "cell_type": "markdown",
   "id": "a7d4dfde-5bfa-43f3-a644-96fb8c971d95",
   "metadata": {},
   "source": [
    "* Testing other datasets on the latest model's architecture, the Transformer-Autoencoder."
   ]
  },
  {
   "cell_type": "code",
   "execution_count": null,
   "id": "9dd6c938-ae07-4d76-9c1e-ef584f6e0e56",
   "metadata": {},
   "outputs": [],
   "source": []
  },
  {
   "cell_type": "code",
   "execution_count": null,
   "id": "191e0fec-21fe-4bd1-a016-e9f7583ef528",
   "metadata": {},
   "outputs": [],
   "source": []
  },
  {
   "cell_type": "code",
   "execution_count": null,
   "id": "021032f9-e95e-44a3-be69-660d01d0e5ee",
   "metadata": {},
   "outputs": [],
   "source": []
  },
  {
   "cell_type": "code",
   "execution_count": null,
   "id": "525f9251-e94e-48f4-aeeb-0d28b813e3ab",
   "metadata": {},
   "outputs": [],
   "source": []
  }
 ],
 "metadata": {
  "kernelspec": {
   "display_name": "Python 3 (ipykernel)",
   "language": "python",
   "name": "python3"
  },
  "language_info": {
   "codemirror_mode": {
    "name": "ipython",
    "version": 3
   },
   "file_extension": ".py",
   "mimetype": "text/x-python",
   "name": "python",
   "nbconvert_exporter": "python",
   "pygments_lexer": "ipython3",
   "version": "3.11.7"
  }
 },
 "nbformat": 4,
 "nbformat_minor": 5
}
